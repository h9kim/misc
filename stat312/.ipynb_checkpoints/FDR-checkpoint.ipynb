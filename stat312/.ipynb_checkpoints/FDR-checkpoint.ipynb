{
 "metadata": {
  "celltoolbar": "Slideshow",
  "name": "",
  "signature": "sha256:fc380a058a17ed65a007d69041d95c678b1f855d9b36769aca1fd84497565c6d"
 },
 "nbformat": 3,
 "nbformat_minor": 0,
 "worksheets": [
  {
   "cells": [
    {
     "cell_type": "code",
     "collapsed": false,
     "input": [
      "%matplotlib inline"
     ],
     "language": "python",
     "metadata": {
      "slideshow": {
       "slide_type": "skip"
      }
     },
     "outputs": [],
     "prompt_number": 1
    },
    {
     "cell_type": "markdown",
     "metadata": {
      "slideshow": {
       "slide_type": "slide"
      }
     },
     "source": [
      "# False discovery rate control with empirical null distributions\n",
      "\n",
      "## Presentation by Charles Zheng\n",
      "\n",
      "Reference: A Schwartzmann, R Dougherty, *et al*.  `Empirical null and false discovery rate analysis in neuroimaging'. *NeuroImage* 2008"
     ]
    },
    {
     "cell_type": "markdown",
     "metadata": {
      "slideshow": {
       "slide_type": "slide"
      }
     },
     "source": [
      "# Are you using the right null distribution??!\n",
      "\n",
      "<img src = 'images/paper1.png'/> \n",
      "\n",
      "Dashed: theoretical null (N(0,1)).  Solid: empirical null"
     ]
    },
    {
     "cell_type": "markdown",
     "metadata": {
      "slideshow": {
       "slide_type": "slide"
      }
     },
     "source": [
      "<img src = 'images/paper2.png'/>\n",
      "\n",
      "Dashed: theoretical null $\\chi^2$.  Solid: empirical null"
     ]
    },
    {
     "cell_type": "markdown",
     "metadata": {
      "slideshow": {
       "slide_type": "slide"
      }
     },
     "source": [
      "### Estimating the 'null'"
     ]
    },
    {
     "cell_type": "markdown",
     "metadata": {
      "slideshow": {
       "slide_type": "fragment"
      }
     },
     "source": [
      " * Assume that the actual null distribution is a shifted or scaled version of the theoretical null"
     ]
    },
    {
     "cell_type": "markdown",
     "metadata": {
      "slideshow": {
       "slide_type": "fragment"
      }
     },
     "source": [
      " * Assume that the test statistics in most (90% + ) of the voxels are drawn from the null"
     ]
    },
    {
     "cell_type": "markdown",
     "metadata": {
      "slideshow": {
       "slide_type": "fragment"
      }
     },
     "source": [
      " * Estimate the null distribution from the 'bulk' of the empirical distribution"
     ]
    },
    {
     "cell_type": "markdown",
     "metadata": {
      "slideshow": {
       "slide_type": "slide"
      }
     },
     "source": [
      "## Example 1\n",
      " * Simulate 10,000 voxels, voxels[0:100] are non-null and voxels[100:10000] are null \n",
      " * Non-null voxels are drawn from $N(-.3, 5)$\n",
      " * Null voxels are drawn from $N(0.2, 1.2)$"
     ]
    },
    {
     "cell_type": "code",
     "collapsed": false,
     "input": [
      "import numpy as np\n",
      "import numpy.random as npr\n",
      "import matplotlib.pyplot as plt\n",
      "voxels = np.zeros(10000)                                # allocate the initial vector\n",
      "voxels[0:100] = npr.normal(-0.3, np.sqrt(5), 100)       # sample the non-null voxels\n",
      "voxels[100:10000] = npr.normal(0.2, np.sqrt(1.2), 9900) # sample the null voxels"
     ],
     "language": "python",
     "metadata": {
      "slideshow": {
       "slide_type": "fragment"
      }
     },
     "outputs": [],
     "prompt_number": 14
    },
    {
     "cell_type": "code",
     "collapsed": false,
     "input": [
      "plt.hist(voxels, bins = 30)\n",
      "plt.title('Histogram of all the test statistics', fontsize = 20)\n",
      "plt.show()"
     ],
     "language": "python",
     "metadata": {
      "slideshow": {
       "slide_type": "fragment"
      }
     },
     "outputs": [
      {
       "metadata": {},
       "output_type": "display_data",
       "png": "[encoded data removed]",
       "text": [
        "<matplotlib.figure.Figure at 0x4559150>"
       ]
      }
     ],
     "prompt_number": 16
    },
    {
     "cell_type": "markdown",
     "metadata": {
      "slideshow": {
       "slide_type": "slide"
      }
     },
     "source": [
      "## Estimating the null"
     ]
    },
    {
     "cell_type": "markdown",
     "metadata": {
      "slideshow": {
       "slide_type": "fragment"
      }
     },
     "source": [
      " * Use only the data from the 'bulk' (the 1st to 3rd quantiles)"
     ]
    },
    {
     "cell_type": "code",
     "collapsed": false,
     "input": [
      "sorted_voxels = sorted(voxels)\n",
      "bulk_voxels = sorted_voxels[2500:7500]\n",
      "plt.hist(bulk_voxels, bins = 30)\n",
      "plt.title('The bulk of the distribution', fontsize = 20)\n",
      "plt.show()"
     ],
     "language": "python",
     "metadata": {
      "slideshow": {
       "slide_type": "fragment"
      }
     },
     "outputs": [
      {
       "metadata": {},
       "output_type": "display_data",
       "png": "[encoded data removed]",
       "text": [
        "<matplotlib.figure.Figure at 0x4573150>"
       ]
      }
     ],
     "prompt_number": 17
    },
    {
     "cell_type": "markdown",
     "metadata": {
      "slideshow": {
       "slide_type": "slide"
      }
     },
     "source": [
      " * We assume that the bulk contains mostly samples from the null distribution\n",
      " * Since this is a simulation, we can actually check that assumption"
     ]
    },
    {
     "cell_type": "code",
     "collapsed": false,
     "input": [
      "n_null = len([v for v in voxels[:100] if v >= min(bulk_voxels) and v <= max(bulk_voxels)])\n",
      "n_alt = len([v for v in voxels[100:] if v >= min(bulk_voxels) and v <= max(bulk_voxels)])\n",
      "print('Number of null voxels in bulk: ' + str(n_null))\n",
      "print('Number of non-null voxels in bulk: ' + str(n_alt))"
     ],
     "language": "python",
     "metadata": {
      "slideshow": {
       "slide_type": "fragment"
      }
     },
     "outputs": [
      {
       "output_type": "stream",
       "stream": "stdout",
       "text": [
        "Number of null voxels in bulk: 25\n",
        "Number of non-null voxels in bulk: 4975\n"
       ]
      }
     ],
     "prompt_number": 20
    },
    {
     "cell_type": "code",
     "collapsed": false,
     "input": [],
     "language": "python",
     "metadata": {},
     "outputs": []
    }
   ],
   "metadata": {}
  }
 ]
}