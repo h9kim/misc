{
 "metadata": {
  "celltoolbar": "Slideshow",
  "name": "",
  "signature": "sha256:630867f5359e601d24804ad496e6001948e18bb21a55f5fe49f200ff714e875a"
 },
 "nbformat": 3,
 "nbformat_minor": 0,
 "worksheets": [
  {
   "cells": [
    {
     "cell_type": "code",
     "collapsed": false,
     "input": [
      "%matplotlib inline"
     ],
     "language": "python",
     "metadata": {
      "slideshow": {
       "slide_type": "skip"
      }
     },
     "outputs": [],
     "prompt_number": 1
    },
    {
     "cell_type": "markdown",
     "metadata": {
      "slideshow": {
       "slide_type": "slide"
      }
     },
     "source": [
      "# False discovery rate control with empirical null distributions\n",
      "\n",
      "## Presentation by Charles Zheng\n",
      "\n",
      "Reference: A Schwartzmann, R Dougherty, *et al*.  `Empirical null and false discovery rate analysis in neuroimaging'. *NeuroImage* 2008"
     ]
    },
    {
     "cell_type": "markdown",
     "metadata": {
      "slideshow": {
       "slide_type": "slide"
      }
     },
     "source": [
      "# Are you using the right null distribution??!\n",
      "\n",
      "<img src = 'images/paper1.png'/> \n",
      "\n",
      "Dashed: theoretical null (N(0,1)).  Solid: empirical null"
     ]
    },
    {
     "cell_type": "markdown",
     "metadata": {
      "slideshow": {
       "slide_type": "slide"
      }
     },
     "source": [
      "<img src = 'images/paper2.png'/>\n",
      "\n",
      "Dashed: theoretical null $\\chi^2$.  Solid: empirical null"
     ]
    },
    {
     "cell_type": "markdown",
     "metadata": {
      "slideshow": {
       "slide_type": "slide"
      }
     },
     "source": [
      "### Estimating the 'null'"
     ]
    },
    {
     "cell_type": "markdown",
     "metadata": {
      "slideshow": {
       "slide_type": "fragment"
      }
     },
     "source": [
      " * Assume that the actual null distribution is a shifted or scaled version of the theoretical null"
     ]
    },
    {
     "cell_type": "markdown",
     "metadata": {
      "slideshow": {
       "slide_type": "fragment"
      }
     },
     "source": [
      " * Assume that the test statistics in most (95% + ) of the voxels are drawn from the null"
     ]
    },
    {
     "cell_type": "markdown",
     "metadata": {
      "slideshow": {
       "slide_type": "fragment"
      }
     },
     "source": [
      " * Estimate the null distribution from the 'bulk' of the empirical distribution"
     ]
    },
    {
     "cell_type": "markdown",
     "metadata": {
      "slideshow": {
       "slide_type": "slide"
      }
     },
     "source": [
      "## Example 1\n",
      " * Simulate 1000 voxels, voxels[0:10] are non-null and voxels[10:1000] are null \n",
      " * Non-null voxels are drawn from $N(-.3, 5)$\n",
      " * Null voxels are drawn from $N(0.2, 1.2)$"
     ]
    },
    {
     "cell_type": "code",
     "collapsed": false,
     "input": [
      "import numpy as np\n",
      "import numpy.random as npr\n",
      "import matplotlib.pyplot as plt\n",
      "voxels = np.zeros(1000)                              # allocate the initial vector\n",
      "voxels[0:10] = npr.normal(-0.3, np.sqrt(5), 10)      # draw the non-null voxels\n",
      "voxels[10:1000] = npr.normal(0.2, np.sqrt(1.2), 990) # draw the null voxels"
     ],
     "language": "python",
     "metadata": {
      "slideshow": {
       "slide_type": "fragment"
      }
     },
     "outputs": [],
     "prompt_number": 12
    },
    {
     "cell_type": "code",
     "collapsed": false,
     "input": [
      "plt.hist(voxels)\n",
      "plt.title('Histogram of all the test statistics', fontsize = 20)\n",
      "plt.show()"
     ],
     "language": "python",
     "metadata": {
      "slideshow": {
       "slide_type": "fragment"
      }
     },
     "outputs": [
      {
       "metadata": {},
       "output_type": "display_data",
       "png": "[encoded data removed]",
       "text": [
        "<matplotlib.figure.Figure at 0x4419490>"
       ]
      }
     ],
     "prompt_number": 13
    },
    {
     "cell_type": "code",
     "collapsed": false,
     "input": [],
     "language": "python",
     "metadata": {
      "slideshow": {
       "slide_type": "slide"
      }
     },
     "outputs": []
    }
   ],
   "metadata": {}
  }
 ]
}