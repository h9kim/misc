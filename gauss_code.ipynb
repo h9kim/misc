{
 "metadata": {
  "name": "",
  "signature": "sha256:ece7793fb05ec15ad847b8e812dcedfa119addd4510501db2ef6d6e24e342a5e"
 },
 "nbformat": 3,
 "nbformat_minor": 0,
 "worksheets": [
  {
   "cells": [
    {
     "cell_type": "heading",
     "level": 1,
     "metadata": {},
     "source": [
      "Gaussian code"
     ]
    },
    {
     "cell_type": "heading",
     "level": 3,
     "metadata": {},
     "source": [
      "An empirical distribution which has the same specified moments as a Gaussian"
     ]
    },
    {
     "cell_type": "code",
     "collapsed": false,
     "input": [
      "import numpy as np\n",
      "import numpy.random as npr\n",
      "import numpy.linalg as nla\n",
      "import scipy as sp\n",
      "import scipy.optimize as spo"
     ],
     "language": "python",
     "metadata": {},
     "outputs": [],
     "prompt_number": 137
    },
    {
     "cell_type": "code",
     "collapsed": false,
     "input": [
      "def tablecount(q):\n",
      "    t = np.array(sorted(np.bincount(np.array(q))))\n",
      "    t = t[t != 0]\n",
      "    return t"
     ],
     "language": "python",
     "metadata": {},
     "outputs": [],
     "prompt_number": 14
    },
    {
     "cell_type": "code",
     "collapsed": false,
     "input": [
      "def all_quads(d):\n",
      "    ans = []\n",
      "    for i in range(d):\n",
      "        for j in range(d):\n",
      "            for k in range(d):\n",
      "                for l in range(d):\n",
      "                    ans = ans + [(i,j,k,l)]\n",
      "    return ans\n",
      "\n",
      "def gauss_4moment(q):\n",
      "    t = tablecount(q)\n",
      "    if t[0]==1:\n",
      "        return 0\n",
      "    if t[0]==4:\n",
      "        return 3\n",
      "    if t[0]==2:\n",
      "        return 1"
     ],
     "language": "python",
     "metadata": {},
     "outputs": [],
     "prompt_number": 15
    },
    {
     "cell_type": "code",
     "collapsed": false,
     "input": [
      "# loss function for (d choose 4) moments\n",
      "def generate_lossf(d, m, penalty):\n",
      "    qs = all_quads(d)\n",
      "    gmoments = np.array([gauss_4moment(q) for q in qs])\n",
      "    def f(a0):\n",
      "        a = np.reshape(a0, (d, m))\n",
      "        # a is d x m\n",
      "        minv = 1.0/m\n",
      "        moments = minv * np.array([sum(a[q[0],:]*a[q[1],:]*a[q[2],:]*a[q[3],:]) for q in qs])\n",
      "        s = sum((moments - gmoments)**2)\n",
      "        pen = penalty * sum(np.ravel(a)**2)\n",
      "        return s + pen\n",
      "    return f"
     ],
     "language": "python",
     "metadata": {},
     "outputs": [],
     "prompt_number": 92
    },
    {
     "cell_type": "code",
     "collapsed": false,
     "input": [
      "i = 1\n",
      "a[:,i]"
     ],
     "language": "python",
     "metadata": {},
     "outputs": [
      {
       "metadata": {},
       "output_type": "pyout",
       "prompt_number": 136,
       "text": [
        "array([ 2.211575  , -0.52241122])"
       ]
      }
     ],
     "prompt_number": 136
    },
    {
     "cell_type": "code",
     "collapsed": false,
     "input": [
      "def form_phase_matrix(a, x):\n",
      "    m = np.shape(a)[1]\n",
      "    d = len(x)\n",
      "    ans = np.zeros((d,d))\n",
      "    for i in range(m):\n",
      "        ans = ans + sum(a[:,i]*x)**2 * np.outer(a[:,i], a[:,i])\n",
      "    return 1.0/m * ans\n",
      "\n",
      "def form_expected_matrix(x):\n",
      "    d = len(x)\n",
      "    return nla.norm(x)**2 * np.eye(d) + 2*np.outer(x, x)"
     ],
     "language": "python",
     "metadata": {},
     "outputs": [],
     "prompt_number": 144
    },
    {
     "cell_type": "code",
     "collapsed": false,
     "input": [
      "d = 5\n",
      "m = 20\n",
      "penalty = 0.1\n",
      "f = generate_lossf(d, m, penalty)"
     ],
     "language": "python",
     "metadata": {},
     "outputs": [],
     "prompt_number": 149
    },
    {
     "cell_type": "code",
     "collapsed": false,
     "input": [
      "a0 = npr.normal(0, 1, d*m)\n",
      "ahist = []"
     ],
     "language": "python",
     "metadata": {},
     "outputs": [],
     "prompt_number": 150
    },
    {
     "cell_type": "code",
     "collapsed": false,
     "input": [
      "f(a0)"
     ],
     "language": "python",
     "metadata": {},
     "outputs": [
      {
       "metadata": {},
       "output_type": "pyout",
       "prompt_number": 151,
       "text": [
        "114.82232258050922"
       ]
      }
     ],
     "prompt_number": 151
    },
    {
     "cell_type": "code",
     "collapsed": false,
     "input": [
      "a = np.reshape(a0, (d, m))\n",
      "qs = all_quads(d)\n",
      "gmoments = np.array([gauss_4moment(q) for q in qs])\n",
      "minv = 1.0/m\n",
      "moments = minv * np.array([sum(a[q[0],:]*a[q[1],:]*a[q[2],:]*a[q[3],:]) for q in qs])\n",
      "#zip(moments, gmoments)"
     ],
     "language": "python",
     "metadata": {},
     "outputs": [],
     "prompt_number": 152
    },
    {
     "cell_type": "code",
     "collapsed": false,
     "input": [
      "res = spo.fmin_bfgs(f, a0)"
     ],
     "language": "python",
     "metadata": {},
     "outputs": [
      {
       "output_type": "stream",
       "stream": "stdout",
       "text": [
        "Optimization terminated successfully.\n",
        "         Current function value: 10.513637\n",
        "         Iterations: 115\n",
        "         Function evaluations: 13566\n",
        "         Gradient evaluations: 133\n"
       ]
      }
     ],
     "prompt_number": 153
    },
    {
     "cell_type": "code",
     "collapsed": false,
     "input": [
      "ahist = ahist + [a0]\n",
      "a0 = res\n",
      "penalty = penalty/2\n",
      "f = generate_lossf(d, m, penalty)\n",
      "res = spo.fmin_bfgs(f, a0)"
     ],
     "language": "python",
     "metadata": {},
     "outputs": [
      {
       "output_type": "stream",
       "stream": "stdout",
       "text": [
        "Optimization terminated successfully.\n",
        "         Current function value: 0.000646\n",
        "         Iterations: 1\n",
        "         Function evaluations: 306\n",
        "         Gradient evaluations: 3\n"
       ]
      }
     ],
     "prompt_number": 167
    },
    {
     "cell_type": "code",
     "collapsed": false,
     "input": [
      "a = np.reshape(a0, (d, m))\n",
      "a"
     ],
     "language": "python",
     "metadata": {},
     "outputs": [
      {
       "metadata": {},
       "output_type": "pyout",
       "prompt_number": 168,
       "text": [
        "array([[  1.80931017e-01,   1.90229291e+00,   1.27200469e-07,\n",
        "         -4.37709127e-01,  -2.05308214e+00,  -2.23656829e-01,\n",
        "         -1.43444199e+00,  -1.92197618e+00,   1.23665117e+00,\n",
        "         -8.50826460e-01,   6.18011034e-01,   1.09892411e-06,\n",
        "         -2.73658405e-07,   5.11116798e-02,   5.25627327e-06,\n",
        "         -1.61306255e+00,  -8.65287673e-01,   7.49116990e-01,\n",
        "          4.98250885e-02,  -8.66256005e-01],\n",
        "       [ -2.32413351e+00,  -8.38179105e-01,   2.37691797e-06,\n",
        "         -1.16482008e+00,   9.61609247e-01,   1.96035881e+00,\n",
        "         -1.97704183e-01,  -1.19255616e+00,   1.88057524e-01,\n",
        "         -4.47312302e-01,   1.34737094e+00,   2.36788051e-07,\n",
        "         -1.57186734e-06,   8.74681943e-01,  -4.54475363e-06,\n",
        "         -1.34587020e+00,   6.51059970e-01,  -8.06794437e-01,\n",
        "         -1.69968145e-01,   1.31963486e+00],\n",
        "       [ -8.81925988e-01,   3.78843698e-01,   8.35692655e-08,\n",
        "          1.67072884e+00,   4.46710921e-01,  -1.23205423e+00,\n",
        "         -2.10594389e+00,   1.51281771e-01,  -1.87988823e+00,\n",
        "         -6.54112870e-01,   6.72766620e-01,   2.37279931e-06,\n",
        "          1.58429677e-07,   1.62086067e+00,   5.90903748e-06,\n",
        "          8.13378238e-02,   1.73862121e+00,   3.77337468e-01,\n",
        "         -5.86496848e-01,  -8.46680450e-01],\n",
        "       [  1.11573335e-01,   4.07463586e-01,  -1.22799587e-06,\n",
        "          3.44649830e-01,   6.03767764e-01,   7.48482070e-01,\n",
        "          3.70691296e-01,  -1.24671666e+00,  -4.03431912e-01,\n",
        "         -4.84825146e-01,  -1.70355381e-01,   3.30015542e-07,\n",
        "          2.66852284e-06,   1.68689208e+00,  -3.22015786e-06,\n",
        "          1.42626700e+00,  -1.38014604e+00,  -2.02083987e+00,\n",
        "          1.96205779e+00,  -1.76172193e+00],\n",
        "       [  6.95427971e-01,   1.35061046e+00,  -1.20753523e-06,\n",
        "          1.49989373e+00,   1.00213268e+00,   6.95520508e-01,\n",
        "          1.97666927e-01,   1.21751771e-01,   1.20282411e+00,\n",
        "          2.20636521e+00,   2.00728989e+00,   5.60766280e-07,\n",
        "          9.61785861e-07,   4.63125797e-01,   1.31714690e-06,\n",
        "          2.77496608e-02,   5.95610427e-01,   1.12690896e+00,\n",
        "          1.57580887e+00,   6.29147939e-01]])"
       ]
      }
     ],
     "prompt_number": 168
    },
    {
     "cell_type": "code",
     "collapsed": false,
     "input": [
      "x = npr.random(d)\n",
      "print(form_phase_matrix(a,x))\n",
      "print(form_expected_matrix(x))"
     ],
     "language": "python",
     "metadata": {},
     "outputs": [
      {
       "output_type": "stream",
       "stream": "stdout",
       "text": [
        "[[ 1.2894379   0.0175554   0.09025592  0.17611021  0.07953392]\n",
        " [ 0.0175554   1.28828666  0.08734485  0.17043008  0.07696896]\n",
        " [ 0.09025592  0.08734485  1.72035659  0.8762172   0.39571346]\n",
        " [ 0.17611021  0.17043008  0.8762172   2.98099828  0.77212745]\n",
        " [ 0.07953392  0.07696896  0.39571346  0.77212745  1.62000256]]\n",
        "[[ 1.28944185  0.01755547  0.0902563   0.17611065  0.07953432]\n",
        " [ 0.01755547  1.28829061  0.08734543  0.17043087  0.07696924]\n",
        " [ 0.0902563   0.08734543  1.72036225  0.87622039  0.39571478]\n",
        " [ 0.17611065  0.17043087  0.87622039  2.98100736  0.77212989]\n",
        " [ 0.07953432  0.07696924  0.39571478  0.77212989  1.62000722]]\n"
       ]
      }
     ],
     "prompt_number": 169
    },
    {
     "cell_type": "code",
     "collapsed": false,
     "input": [
      "np.outer(x, x)"
     ],
     "language": "python",
     "metadata": {},
     "outputs": [
      {
       "metadata": {},
       "output_type": "pyout",
       "prompt_number": 143,
       "text": [
        "array([[ 0.03463585,  0.0146322 ],\n",
        "       [ 0.0146322 ,  0.00618149]])"
       ]
      }
     ],
     "prompt_number": 143
    },
    {
     "cell_type": "code",
     "collapsed": false,
     "input": [],
     "language": "python",
     "metadata": {},
     "outputs": []
    }
   ],
   "metadata": {}
  }
 ]
}