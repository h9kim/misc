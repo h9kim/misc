{
 "metadata": {
  "name": "",
  "signature": "sha256:0bf94625dc3a3092e12151152814ad9d0947ff2ed13e17208997ee3ecf0e2190"
 },
 "nbformat": 3,
 "nbformat_minor": 0,
 "worksheets": [
  {
   "cells": [
    {
     "cell_type": "code",
     "collapsed": false,
     "input": [
      "\n",
      "import numpy as np\n",
      "import matplotlib.pyplot as plt\n",
      "%matplotlib inline\n",
      "import nibabel as nib"
     ],
     "language": "python",
     "metadata": {},
     "outputs": [],
     "prompt_number": 2
    },
    {
     "cell_type": "code",
     "collapsed": false,
     "input": [
      "ls"
     ],
     "language": "python",
     "metadata": {},
     "outputs": [
      {
       "output_type": "stream",
       "stream": "stdout",
       "text": [
        "\u001b[0m\u001b[01;34m*\u001b[0m/  FDR.ipynb  FDR.slides.html  fmri0.ipynb  \u001b[01;34mimages\u001b[0m/\r\n"
       ]
      }
     ],
     "prompt_number": 3
    },
    {
     "cell_type": "code",
     "collapsed": false,
     "input": [
      "cd /home/snarles/hcp/10s/115320/MNINonLinear/Results/tfMRI_LANGUAGE_LR/"
     ],
     "language": "python",
     "metadata": {},
     "outputs": [
      {
       "output_type": "stream",
       "stream": "stdout",
       "text": [
        "/home/snarles/hcp/10s/115320/MNINonLinear/Results/tfMRI_LANGUAGE_LR\n"
       ]
      }
     ],
     "prompt_number": 12
    },
    {
     "cell_type": "code",
     "collapsed": false,
     "input": [
      "ls"
     ],
     "language": "python",
     "metadata": {},
     "outputs": [
      {
       "output_type": "stream",
       "stream": "stdout",
       "text": [
        "\u001b[0m\u001b[01;31mbrainmask_fs.2.nii.gz\u001b[0m          Movement_RelativeRMS.txt\r\n",
        "\u001b[01;34mEVs\u001b[0m/                           \u001b[01;34mRibbonVolumeToSurfaceMapping\u001b[0m/\r\n",
        "LANGUAGE_run2_TAB.txt          tfMRI_LANGUAGE_LR_Atlas.dtseries.nii\r\n",
        "Movement_AbsoluteRMS_mean.txt  tfMRI_LANGUAGE_LR_hp200_s4_level1.fsf\r\n",
        "Movement_AbsoluteRMS.txt       \u001b[01;31mtfMRI_LANGUAGE_LR_Jacobian.nii.gz\u001b[0m\r\n",
        "Movement_Regressors_dt.txt     \u001b[01;31mtfMRI_LANGUAGE_LR.nii.gz\u001b[0m\r\n",
        "Movement_Regressors.txt        tfMRI_LANGUAGE_LR_Physio_log.txt\r\n",
        "Movement_RelativeRMS_mean.txt  \u001b[01;31mtfMRI_LANGUAGE_LR_SBRef.nii.gz\u001b[0m\r\n"
       ]
      }
     ],
     "prompt_number": 13
    },
    {
     "cell_type": "code",
     "collapsed": false,
     "input": [
      "mask = nib.load('brainmask_fs.2.nii.gz')"
     ],
     "language": "python",
     "metadata": {},
     "outputs": [],
     "prompt_number": 14
    },
    {
     "cell_type": "code",
     "collapsed": false,
     "input": [
      "mask"
     ],
     "language": "python",
     "metadata": {},
     "outputs": [
      {
       "metadata": {},
       "output_type": "pyout",
       "prompt_number": 15,
       "text": [
        "<nibabel.nifti1.Nifti1Image at 0x41eef50>"
       ]
      }
     ],
     "prompt_number": 15
    },
    {
     "cell_type": "code",
     "collapsed": false,
     "input": [
      "hdr = mask.get_header()"
     ],
     "language": "python",
     "metadata": {},
     "outputs": [],
     "prompt_number": 17
    },
    {
     "cell_type": "code",
     "collapsed": false,
     "input": [
      "hdr"
     ],
     "language": "python",
     "metadata": {},
     "outputs": [
      {
       "metadata": {},
       "output_type": "pyout",
       "prompt_number": 18,
       "text": [
        "<nibabel.nifti1.Nifti1Header at 0x423c050>"
       ]
      }
     ],
     "prompt_number": 18
    },
    {
     "cell_type": "code",
     "collapsed": false,
     "input": [
      "print(hdr)"
     ],
     "language": "python",
     "metadata": {},
     "outputs": [
      {
       "output_type": "stream",
       "stream": "stdout",
       "text": [
        "<class 'nibabel.nifti1.Nifti1Header'> object, endian='<'\n",
        "sizeof_hdr      : 348\n",
        "data_type       : \n",
        "db_name         : \n",
        "extents         : 0\n",
        "session_error   : 0\n",
        "regular         : r\n",
        "dim_info        : 0\n",
        "dim             : [  3  91 109  91   1   1   1   1]\n",
        "intent_p1       : 0.0\n",
        "intent_p2       : 0.0\n",
        "intent_p3       : 0.0\n",
        "intent_code     : none\n",
        "datatype        : float32\n",
        "bitpix          : 32\n",
        "slice_start     : 0\n",
        "pixdim          : [-1.  2.  2.  2.  1.  0.  0.  0.]\n",
        "vox_offset      : 0.0\n",
        "scl_slope       : nan\n",
        "scl_inter       : nan\n",
        "slice_end       : 0\n",
        "slice_code      : unknown\n",
        "xyzt_units      : 10\n",
        "cal_max         : 0.0\n",
        "cal_min         : 0.0\n",
        "slice_duration  : 0.0\n",
        "toffset         : 0.0\n",
        "glmax           : 0\n",
        "glmin           : 0\n",
        "descrip         : FSL5.0\n",
        "aux_file        : \n",
        "qform_code      : mni\n",
        "sform_code      : mni\n",
        "quatern_b       : 0.0\n",
        "quatern_c       : 1.0\n",
        "quatern_d       : 0.0\n",
        "qoffset_x       : 90.0\n",
        "qoffset_y       : -126.0\n",
        "qoffset_z       : -72.0\n",
        "srow_x          : [ -2.   0.   0.  90.]\n",
        "srow_y          : [   0.    2.    0. -126.]\n",
        "srow_z          : [  0.   0.   2. -72.]\n",
        "intent_name     : \n",
        "magic           : n+1\n"
       ]
      }
     ],
     "prompt_number": 19
    },
    {
     "cell_type": "code",
     "collapsed": false,
     "input": [
      "data = mask.get_data()"
     ],
     "language": "python",
     "metadata": {},
     "outputs": [],
     "prompt_number": 20
    },
    {
     "cell_type": "code",
     "collapsed": false,
     "input": [
      "np.shape(data)"
     ],
     "language": "python",
     "metadata": {},
     "outputs": [
      {
       "metadata": {},
       "output_type": "pyout",
       "prompt_number": 21,
       "text": [
        "(91, 109, 91)"
       ]
      }
     ],
     "prompt_number": 21
    },
    {
     "cell_type": "code",
     "collapsed": false,
     "input": [
      "plt.imshow(data[:, :, 70], cmap='bone')"
     ],
     "language": "python",
     "metadata": {},
     "outputs": [
      {
       "metadata": {},
       "output_type": "pyout",
       "prompt_number": 32,
       "text": [
        "<matplotlib.image.AxesImage at 0x59dafd0>"
       ]
      },
      {
       "metadata": {},
       "output_type": "display_data",
       "png": "[encoded data removed]",
       "text": [
        "<matplotlib.figure.Figure at 0x4f86810>"
       ]
      }
     ],
     "prompt_number": 32
    },
    {
     "cell_type": "code",
     "collapsed": false,
     "input": [
      "tfm = nib.load('tfMRI_LANGUAGE_LR.nii.gz')"
     ],
     "language": "python",
     "metadata": {},
     "outputs": [],
     "prompt_number": 33
    },
    {
     "cell_type": "code",
     "collapsed": false,
     "input": [
      "print(tfm.get_header())"
     ],
     "language": "python",
     "metadata": {},
     "outputs": [
      {
       "output_type": "stream",
       "stream": "stdout",
       "text": [
        "<class 'nibabel.nifti1.Nifti1Header'> object, endian='<'\n",
        "sizeof_hdr      : 348\n",
        "data_type       : \n",
        "db_name         : \n",
        "extents         : 0\n",
        "session_error   : 0\n",
        "regular         : r\n",
        "dim_info        : 0\n",
        "dim             : [  4  91 109  91 316   1   1   1]\n",
        "intent_p1       : 0.0\n",
        "intent_p2       : 0.0\n",
        "intent_p3       : 0.0\n",
        "intent_code     : none\n",
        "datatype        : float32\n",
        "bitpix          : 32\n",
        "slice_start     : 0\n",
        "pixdim          : [-1.          2.          2.          2.          0.72000003  0.          0.\n",
        "  0.        ]\n",
        "vox_offset      : 0.0\n",
        "scl_slope       : nan\n",
        "scl_inter       : nan\n",
        "slice_end       : 0\n",
        "slice_code      : unknown\n",
        "xyzt_units      : 10\n",
        "cal_max         : 0.0\n",
        "cal_min         : 0.0\n",
        "slice_duration  : 0.0\n",
        "toffset         : 0.0\n",
        "glmax           : 0\n",
        "glmin           : 0\n",
        "descrip         : FSL5.0\n",
        "aux_file        : \n",
        "qform_code      : mni\n",
        "sform_code      : mni\n",
        "quatern_b       : 0.0\n",
        "quatern_c       : 1.0\n",
        "quatern_d       : 0.0\n",
        "qoffset_x       : 90.0\n",
        "qoffset_y       : -126.0\n",
        "qoffset_z       : -72.0\n",
        "srow_x          : [ -2.   0.   0.  90.]\n",
        "srow_y          : [   0.    2.    0. -126.]\n",
        "srow_z          : [  0.   0.   2. -72.]\n",
        "intent_name     : \n",
        "magic           : n+1\n"
       ]
      }
     ],
     "prompt_number": 34
    },
    {
     "cell_type": "code",
     "collapsed": false,
     "input": [
      "tfm_data = tfm.get_data()"
     ],
     "language": "python",
     "metadata": {},
     "outputs": [],
     "prompt_number": 35
    },
    {
     "cell_type": "code",
     "collapsed": false,
     "input": [
      "plt.imshow(tfm_data[:, :, 18, 100])"
     ],
     "language": "python",
     "metadata": {},
     "outputs": [
      {
       "metadata": {},
       "output_type": "pyout",
       "prompt_number": 52,
       "text": [
        "<matplotlib.image.AxesImage at 0x72a9f10>"
       ]
      },
      {
       "metadata": {},
       "output_type": "display_data",
       "png": "[encoded data removed]",
       "text": [
        "<matplotlib.figure.Figure at 0x59df850>"
       ]
      }
     ],
     "prompt_number": 52
    },
    {
     "cell_type": "code",
     "collapsed": false,
     "input": [
      "cd /home/snarles/hcp/10s/115320/T1w/Diffusion/"
     ],
     "language": "python",
     "metadata": {},
     "outputs": [
      {
       "output_type": "stream",
       "stream": "stdout",
       "text": [
        "/home/snarles/hcp/10s/115320/T1w/Diffusion\n"
       ]
      }
     ],
     "prompt_number": 42
    },
    {
     "cell_type": "code",
     "collapsed": false,
     "input": [
      "ls"
     ],
     "language": "python",
     "metadata": {},
     "outputs": [
      {
       "output_type": "stream",
       "stream": "stdout",
       "text": [
        "bvals  bvecs  \u001b[0m\u001b[01;31mdata.nii.gz\u001b[0m  \u001b[01;31mgrad_dev.nii.gz\u001b[0m  \u001b[01;31mnodif_brain_mask.nii.gz\u001b[0m\r\n"
       ]
      }
     ],
     "prompt_number": 43
    },
    {
     "cell_type": "code",
     "collapsed": false,
     "input": [
      "mask2 = nib.load('nodif_brain_mask.nii.gz')"
     ],
     "language": "python",
     "metadata": {},
     "outputs": [],
     "prompt_number": 44
    },
    {
     "cell_type": "code",
     "collapsed": false,
     "input": [
      "m2data = mask2.get_data()"
     ],
     "language": "python",
     "metadata": {},
     "outputs": [],
     "prompt_number": 45
    },
    {
     "cell_type": "code",
     "collapsed": false,
     "input": [
      "np.shape(m2data)"
     ],
     "language": "python",
     "metadata": {},
     "outputs": [
      {
       "metadata": {},
       "output_type": "pyout",
       "prompt_number": 47,
       "text": [
        "(145, 174, 145)"
       ]
      }
     ],
     "prompt_number": 47
    },
    {
     "cell_type": "code",
     "collapsed": false,
     "input": [
      "plt.imshow(m2data[:,:, 29])"
     ],
     "language": "python",
     "metadata": {},
     "outputs": [
      {
       "metadata": {},
       "output_type": "pyout",
       "prompt_number": 51,
       "text": [
        "<matplotlib.image.AxesImage at 0x7064590>"
       ]
      },
      {
       "metadata": {},
       "output_type": "display_data",
       "png": "[encoded data removed]",
       "text": [
        "<matplotlib.figure.Figure at 0x439f810>"
       ]
      }
     ],
     "prompt_number": 51
    },
    {
     "cell_type": "code",
     "collapsed": false,
     "input": [
      ".2 * 145"
     ],
     "language": "python",
     "metadata": {},
     "outputs": [
      {
       "metadata": {},
       "output_type": "pyout",
       "prompt_number": 49,
       "text": [
        "29.0"
       ]
      }
     ],
     "prompt_number": 49
    },
    {
     "cell_type": "code",
     "collapsed": false,
     "input": [
      ".2*91"
     ],
     "language": "python",
     "metadata": {},
     "outputs": [
      {
       "metadata": {},
       "output_type": "pyout",
       "prompt_number": 50,
       "text": [
        "18.2"
       ]
      }
     ],
     "prompt_number": 50
    },
    {
     "cell_type": "code",
     "collapsed": false,
     "input": [],
     "language": "python",
     "metadata": {},
     "outputs": []
    }
   ],
   "metadata": {}
  }
 ]
}