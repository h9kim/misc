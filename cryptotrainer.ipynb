{
 "metadata": {
  "name": "",
  "signature": "sha256:0bf1c6214c865b1ca35beb80db94052bb6f85672fb55bd380219937737cfe248"
 },
 "nbformat": 3,
 "nbformat_minor": 0,
 "worksheets": [
  {
   "cells": [
    {
     "cell_type": "code",
     "collapsed": false,
     "input": [
      "# trains you to use a cipher"
     ],
     "language": "python",
     "metadata": {},
     "outputs": [],
     "prompt_number": 1
    },
    {
     "cell_type": "code",
     "collapsed": false,
     "input": [
      "import twl\n",
      "import numpy as np\n",
      "import numpy.random as npr\n",
      "import string"
     ],
     "language": "python",
     "metadata": {},
     "outputs": [],
     "prompt_number": 54
    },
    {
     "cell_type": "code",
     "collapsed": false,
     "input": [
      "def enumwords(depth):\n",
      "    words = []\n",
      "    stems = [['']] + [[] for i in range(depth)]\n",
      "    for l in range(depth):\n",
      "        for stem in stems[l]:\n",
      "            chs = twl.children(stem)\n",
      "            for c in chs:\n",
      "                if c == '$':\n",
      "                    words.append(stem)\n",
      "                else:\n",
      "                    stems[l+1].append(stem + c)\n",
      "    return words, stems\n",
      "\n",
      "def randword(start = ''):\n",
      "    ans = start\n",
      "    flag = True\n",
      "    while flag:\n",
      "        l = twl.children(ans)\n",
      "        if npr.rand(1) < len(l)/26.0:\n",
      "            choice = l[npr.randint(0,len(l))]\n",
      "            if choice == '$':\n",
      "                if npr.rand(1) < 1.0/26.0:\n",
      "                    flag = False\n",
      "            else:\n",
      "                ans = ans + choice\n",
      "        else:\n",
      "            ans =  start\n",
      "    return ans"
     ],
     "language": "python",
     "metadata": {},
     "outputs": [],
     "prompt_number": 157
    },
    {
     "cell_type": "code",
     "collapsed": false,
     "input": [
      "words, stems = enumwords(7)"
     ],
     "language": "python",
     "metadata": {},
     "outputs": [],
     "prompt_number": 168
    },
    {
     "cell_type": "code",
     "collapsed": false,
     "input": [
      "string.letters"
     ],
     "language": "python",
     "metadata": {},
     "outputs": [
      {
       "metadata": {},
       "output_type": "pyout",
       "prompt_number": 188,
       "text": [
        "'ABCDEFGHIJKLMNOPQRSTUVWXYZabcdefghijklmnopqrstuvwxyz'"
       ]
      }
     ],
     "prompt_number": 188
    },
    {
     "cell_type": "code",
     "collapsed": false,
     "input": [
      "code0 = [s for s in string.letters[26:]]\n",
      "code = list(code0); npr.shuffle(code)\n",
      "#\"code = ('\" + \"','\".join(code)+\"')\""
     ],
     "language": "python",
     "metadata": {},
     "outputs": [
      {
       "metadata": {},
       "output_type": "pyout",
       "prompt_number": 189,
       "text": [
        "\"code = ('v','w','e','r','j','z','b','u','n','g','a','q','l','p','t','f','i','m','c','k','y','x','s','o','d','h')\""
       ]
      }
     ],
     "prompt_number": 189
    },
    {
     "cell_type": "code",
     "collapsed": false,
     "input": [
      "codebook = {i : j for (i,j) in zip(code0, code)}\n",
      "#zip(code0,code)"
     ],
     "language": "python",
     "metadata": {},
     "outputs": [],
     "prompt_number": 203
    },
    {
     "cell_type": "code",
     "collapsed": false,
     "input": [
      "npr.shuffle(words)"
     ],
     "language": "python",
     "metadata": {},
     "outputs": [],
     "prompt_number": 186
    },
    {
     "cell_type": "code",
     "collapsed": false,
     "input": [
      "words[:5]"
     ],
     "language": "python",
     "metadata": {},
     "outputs": [
      {
       "metadata": {},
       "output_type": "pyout",
       "prompt_number": 187,
       "text": [
        "['upwaft', 'conns', 'jugs', 'elms', 'utile']"
       ]
      }
     ],
     "prompt_number": 187
    },
    {
     "cell_type": "code",
     "collapsed": false,
     "input": [
      "def quiz(ntrials = 10):\n",
      "    for i in range(ntrials):\n",
      "        word = words[i]\n",
      "        solution = ''.join([codebook[s] for s in word])\n",
      "        flag = True\n",
      "        while flag:\n",
      "            answer = raw_input(word + ': ')\n",
      "            if answer==solution:\n",
      "                flag = False\n",
      "    return"
     ],
     "language": "python",
     "metadata": {},
     "outputs": [],
     "prompt_number": 201
    },
    {
     "cell_type": "code",
     "collapsed": false,
     "input": [
      "codebook['a']"
     ],
     "language": "python",
     "metadata": {},
     "outputs": [
      {
       "metadata": {},
       "output_type": "pyout",
       "prompt_number": 199,
       "text": [
        "'v'"
       ]
      }
     ],
     "prompt_number": 199
    },
    {
     "cell_type": "code",
     "collapsed": false,
     "input": [],
     "language": "python",
     "metadata": {},
     "outputs": []
    }
   ],
   "metadata": {}
  }
 ]
}