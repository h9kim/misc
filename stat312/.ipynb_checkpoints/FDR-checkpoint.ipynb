{
 "metadata": {
  "name": "",
  "signature": "sha256:fa38904b6918ec7803fa9fa7a82b4411bb271a178d9d1d82de2c902ba59509a2"
 },
 "nbformat": 3,
 "nbformat_minor": 0,
 "worksheets": [
  {
   "cells": [
    {
     "cell_type": "markdown",
     "metadata": {
      "slideshow": {
       "slide_type": "slide"
      }
     },
     "source": [
      "# False discovery rate control with empirical null distributions\n",
      "\n",
      "<br/>\n",
      "<br/>\n",
      "<br/>\n",
      "<br/>\n",
      "\n",
      "## Presentation by Charles Zheng\n",
      "\n",
      "\n",
      "<br/><br/><br/><br/>\n",
      "\n",
      "Reference: A Schwartzmann, R Dougherty, *et al*.  `Empirical null and false discovery rate analysis in neuroimaging'. *NeuroImage* 2008"
     ]
    },
    {
     "cell_type": "markdown",
     "metadata": {},
     "source": [
      "<br/><br/><br/><br/><br/><br/><br/><br/><br/><br/><br/><br/>"
     ]
    },
    {
     "cell_type": "markdown",
     "metadata": {
      "slideshow": {
       "slide_type": "slide"
      }
     },
     "source": [
      "# Are you using the right null distribution??!\n",
      "\n",
      "<img src = 'images/paper1.png'/> \n",
      "\n",
      "Dashed: theoretical null (N(0,1)).  Solid: empirical null"
     ]
    },
    {
     "cell_type": "markdown",
     "metadata": {
      "slideshow": {
       "slide_type": "slide"
      }
     },
     "source": [
      "<img src = 'images/paper2.png'/>\n",
      "\n",
      "Dashed: theoretical null $\\chi^2$.  Solid: empirical null"
     ]
    },
    {
     "cell_type": "markdown",
     "metadata": {},
     "source": [
      "<br/><br/><br/><br/><br/><br/><br/><br/>"
     ]
    },
    {
     "cell_type": "markdown",
     "metadata": {
      "slideshow": {
       "slide_type": "slide"
      }
     },
     "source": [
      "## Estimating the 'null'"
     ]
    },
    {
     "cell_type": "markdown",
     "metadata": {
      "slideshow": {
       "slide_type": "fragment"
      }
     },
     "source": [
      " * Assume that the actual null distribution is a shifted or scaled version of the theoretical null"
     ]
    },
    {
     "cell_type": "markdown",
     "metadata": {
      "slideshow": {
       "slide_type": "fragment"
      }
     },
     "source": [
      " * Assume that the test statistics in most (90% + ) of the voxels are drawn from the null"
     ]
    },
    {
     "cell_type": "markdown",
     "metadata": {
      "slideshow": {
       "slide_type": "fragment"
      }
     },
     "source": [
      " * Estimate the null distribution from the 'bulk' of the empirical distribution"
     ]
    },
    {
     "cell_type": "markdown",
     "metadata": {},
     "source": [
      "<br/><br/><br/><br/><br/><br/><br/><br/><br/>"
     ]
    },
    {
     "cell_type": "markdown",
     "metadata": {
      "slideshow": {
       "slide_type": "slide"
      }
     },
     "source": [
      "## Example 1\n",
      " * Simulate 10,000 voxels, voxels[0:100] are non-null and voxels[100:10000] are null \n",
      " * Non-null voxels are drawn from $N(-.3, 5)$\n",
      " * Null voxels are drawn from $N(0.2, 1.2)$"
     ]
    },
    {
     "cell_type": "code",
     "collapsed": false,
     "input": [
      "import numpy as np\n",
      "import numpy.random as npr\n",
      "import matplotlib.pyplot as plt\n",
      "import scipy.stats as spst\n",
      "mu_null = 0.2\n",
      "sigma2_null = 1.2\n",
      "mu_alt = -0.3\n",
      "sigma2_alt = 5\n",
      "nvoxels = 10000\n",
      "n_alt = 100 # number of non-null voxels\n",
      "voxels = np.zeros(nvoxels)\n",
      "# sample the non-null voxels\n",
      "voxels[:n_alt] = npr.normal(mu_alt, np.sqrt(sigma2_alt), n_alt) \n",
      " # sample the null voxels\n",
      "voxels[n_alt:] = npr.normal(mu_null, np.sqrt(sigma2_null), nvoxels-n_alt)"
     ],
     "language": "python",
     "metadata": {
      "slideshow": {
       "slide_type": "fragment"
      }
     },
     "outputs": [],
     "prompt_number": 61
    },
    {
     "cell_type": "code",
     "collapsed": false,
     "input": [
      "%matplotlib inline\n",
      "# plot the test statistics\n",
      "nbins = 30\n",
      "hist = plt.hist(voxels, nbins)\n",
      "binwidth = hist[1][1] - hist[1][0]\n",
      "plt.title('Histogram vs theoretical null', fontsize = 20)\n",
      "# compare with the theoretical null N(0,1)\n",
      "xs = np.arange(-8, 8, 0.1)\n",
      "y = spst.norm.pdf(xs)\n",
      "plt.plot(xs, y * nvoxels * binwidth)\n",
      "plt.show()"
     ],
     "language": "python",
     "metadata": {
      "slideshow": {
       "slide_type": "fragment"
      }
     },
     "outputs": [
      {
       "metadata": {},
       "output_type": "display_data",
       "png": "[encoded data removed]",
       "text": [
        "<matplotlib.figure.Figure at 0x50b7f10>"
       ]
      }
     ],
     "prompt_number": 73
    },
    {
     "cell_type": "markdown",
     "metadata": {},
     "source": [
      "<br/><br/><br/><br/><br/>"
     ]
    },
    {
     "cell_type": "markdown",
     "metadata": {
      "slideshow": {
       "slide_type": "slide"
      }
     },
     "source": [
      "## Estimating the null"
     ]
    },
    {
     "cell_type": "markdown",
     "metadata": {
      "slideshow": {
       "slide_type": "fragment"
      }
     },
     "source": [
      " * Use only the data from the 'bulk' (the 1st to 3rd quantiles)"
     ]
    },
    {
     "cell_type": "code",
     "collapsed": false,
     "input": [
      "sorted_voxels = sorted(voxels)\n",
      "bulk_voxels = np.array(sorted_voxels[2500:7500])\n",
      "plt.hist(bulk_voxels, bins = 30)\n",
      "plt.title('The bulk of the distribution', fontsize = 20)\n",
      "plt.show()"
     ],
     "language": "python",
     "metadata": {
      "slideshow": {
       "slide_type": "fragment"
      }
     },
     "outputs": [
      {
       "metadata": {},
       "output_type": "display_data",
       "png": "[encoded data removed]",
       "text": [
        "<matplotlib.figure.Figure at 0x4425310>"
       ]
      }
     ],
     "prompt_number": 29
    },
    {
     "cell_type": "markdown",
     "metadata": {
      "slideshow": {
       "slide_type": "slide"
      }
     },
     "source": [
      " * We assume that the bulk contains mostly samples from the null distribution\n",
      " * Since this is a simulation, we can actually check that assumption"
     ]
    },
    {
     "cell_type": "code",
     "collapsed": false,
     "input": [
      "n_null = len([v for v in voxels[:100] if v >= min(bulk_voxels) and v <= max(bulk_voxels)])\n",
      "n_alt = len([v for v in voxels[100:] if v >= min(bulk_voxels) and v <= max(bulk_voxels)])\n",
      "print('Number of null voxels in bulk: ' + str(n_null))\n",
      "print('Number of non-null voxels in bulk: ' + str(n_alt))"
     ],
     "language": "python",
     "metadata": {
      "slideshow": {
       "slide_type": "fragment"
      }
     },
     "outputs": [
      {
       "output_type": "stream",
       "stream": "stdout",
       "text": [
        "Number of null voxels in bulk: 25\n",
        "Number of non-null voxels in bulk: 4975\n"
       ]
      }
     ],
     "prompt_number": 20
    },
    {
     "cell_type": "markdown",
     "metadata": {},
     "source": [
      "<br/><br/><br/><br/><br/><br/><br/>"
     ]
    },
    {
     "cell_type": "markdown",
     "metadata": {
      "slideshow": {
       "slide_type": "slide"
      }
     },
     "source": [
      "## Fitting the null distribution\n",
      "\n",
      "The null density is given by\n",
      "\n",
      "$$\n",
      "f_0(z) = \\frac{1}{\\sqrt{2\\pi \\sigma^2}} \\exp\\left(\\frac{-(z-\\mu)^2}{2\\sigma^2}\\right)\n",
      "$$\n",
      "\n",
      "which can be written as\n",
      "\n",
      "$$\n",
      "\\log f_0(z) = b_0 + b_1 z + b_2 z^2\n",
      "$$\n",
      "\n",
      "where\n",
      "\n",
      "$$\n",
      "b_1 = \\frac{\\mu}{\\sigma^2}\n",
      "$$\n",
      "\n",
      "$$\n",
      "b_2 = -\\frac{1}{2\\sigma^2}\n",
      "$$\n",
      "\n",
      "Therefore $\\mu, \\sigma^2$ can be estimated using Poisson or OLS regression using the log-counts (to be demonstrated)"
     ]
    },
    {
     "cell_type": "markdown",
     "metadata": {},
     "source": [
      "<br/><br/><br/><br/><br/><br/><br/><br/><br/>"
     ]
    },
    {
     "cell_type": "markdown",
     "metadata": {},
     "source": [
      "## Demonstration using OLS (for simplicity)"
     ]
    },
    {
     "cell_type": "markdown",
     "metadata": {},
     "source": [
      "1) Form bin midpoints and counts"
     ]
    },
    {
     "cell_type": "code",
     "collapsed": false,
     "input": [
      "print(min(bulk_voxels), max(bulk_voxels))\n",
      "range_bins = max(bulk_voxels)-min(bulk_voxels)"
     ],
     "language": "python",
     "metadata": {},
     "outputs": [
      {
       "output_type": "stream",
       "stream": "stdout",
       "text": [
        "(-0.52850698092056358, 0.97483075626468851)\n"
       ]
      }
     ],
     "prompt_number": 26
    },
    {
     "cell_type": "code",
     "collapsed": false,
     "input": [
      "nbins = 20\n",
      "\n",
      "# the left edges of the bins\n",
      "bin_lefts = min(bulk_voxels) + np.arange(0, 1, 1.0/nbins) * range_bins\n",
      "# the right edges of the bins\n",
      "bin_rights = min(bulk_voxels) + np.arange(1.0/nbins, 1 + 1e-14, 1.0/nbins) * range_bins\n",
      "# the midpoints\n",
      "bin_midpoints = (bin_lefts + bin_rights)/2.0\n",
      "# the counts\n",
      "bin_counts = [sum((bulk_voxels >= l) * (bulk_voxels < r)) for (l, r) in zip(bin_lefts, bin_rights)]"
     ],
     "language": "python",
     "metadata": {},
     "outputs": [],
     "prompt_number": 30
    },
    {
     "cell_type": "code",
     "collapsed": false,
     "input": [
      "float_formatter = lambda x: \"%5.2f\" %x\n",
      "np.set_printoptions(formatter={'float_kind': float_formatter})\n",
      "np.vstack([bin_lefts, bin_rights, bin_counts]).T"
     ],
     "language": "python",
     "metadata": {},
     "outputs": []
    },
    {
     "cell_type": "markdown",
     "metadata": {},
     "source": [
      "2) Regress log(counts) on midpoints"
     ]
    },
    {
     "cell_type": "code",
     "collapsed": false,
     "input": [
      "plt.scatter(bin_midpoints, np.log(bin_counts))\n",
      "plt.show()"
     ],
     "language": "python",
     "metadata": {},
     "outputs": [
      {
       "metadata": {},
       "output_type": "display_data",
       "png": "[encoded data removed]",
       "text": [
        "<matplotlib.figure.Figure at 0x45e64d0>"
       ]
      }
     ],
     "prompt_number": 48
    },
    {
     "cell_type": "code",
     "collapsed": false,
     "input": [
      "# response is log(counts)\n",
      "yvec = np.log(bin_counts)\n",
      "# design matrix is (1, midpoints, midpoints^2)\n",
      "xmat = np.vstack([np.ones(nbins), bin_midpoints, bin_midpoints**2]).T\n",
      "regression_result = np.linalg.lstsq(xmat, yvec)\n",
      "coeffs = regression_result[0]\n",
      "yhat = np.squeeze(np.dot(xmat, coeffs))\n",
      "plt.scatter(bin_midpoints, np.log(bin_counts))\n",
      "plt.plot(bin_midpoints, yhat)\n",
      "plt.show()"
     ],
     "language": "python",
     "metadata": {},
     "outputs": [
      {
       "metadata": {},
       "output_type": "display_data",
       "png": "[encoded data removed]",
       "text": [
        "<matplotlib.figure.Figure at 0x409cfd0>"
       ]
      }
     ],
     "prompt_number": 52
    },
    {
     "cell_type": "markdown",
     "metadata": {},
     "source": [
      "3) Convert regression coefficients to parameter estimates"
     ]
    },
    {
     "cell_type": "code",
     "collapsed": false,
     "input": [
      "b1 = coeffs[1]\n",
      "b2 = coeffs[2]\n",
      "sigma2hat = -1.0/(2*b2)\n",
      "muhat = b1 * sigma2hat\n",
      "print('Estimate of mu: ' + str(muhat))\n",
      "print('Estimate of sigma^2: ' + str(sigma2hat))"
     ],
     "language": "python",
     "metadata": {},
     "outputs": [
      {
       "output_type": "stream",
       "stream": "stdout",
       "text": [
        "Estimate of mu: 0.170329751769\n",
        "Estimate of sigma^2: 0.956703160032\n"
       ]
      }
     ],
     "prompt_number": 58
    },
    {
     "cell_type": "code",
     "collapsed": false,
     "input": [],
     "language": "python",
     "metadata": {},
     "outputs": []
    }
   ],
   "metadata": {}
  }
 ]
}